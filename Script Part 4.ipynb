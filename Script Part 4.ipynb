{
 "cells": [
  {
   "cell_type": "markdown",
   "id": "4e4e38bd-a21d-4fa4-aca9-c595c52596d9",
   "metadata": {
    "tags": []
   },
   "source": [
    "# Part 4"
   ]
  },
  {
   "cell_type": "markdown",
   "id": "22b14387-bd77-4374-9431-d7e0135e6ac9",
   "metadata": {
    "tags": []
   },
   "source": [
    "## Import & Load"
   ]
  },
  {
   "cell_type": "code",
   "execution_count": 1,
   "id": "620c711a-683e-4f18-87fe-e3cde44a1f37",
   "metadata": {
    "tags": []
   },
   "outputs": [],
   "source": [
    "%load_ext google.cloud.bigquery"
   ]
  },
  {
   "cell_type": "code",
   "execution_count": 2,
   "id": "1c63627e-d59e-4012-b930-9686077588da",
   "metadata": {
    "tags": []
   },
   "outputs": [],
   "source": [
    "import os\n",
    "import pandas as pd\n",
    "from google.cloud import bigquery\n",
    "import google.auth\n",
    "from google.cloud import bigquery"
   ]
  },
  {
   "cell_type": "code",
   "execution_count": 3,
   "id": "f869f61a-43ab-4da5-bcd7-ce3b203460da",
   "metadata": {
    "tags": []
   },
   "outputs": [],
   "source": [
    "os.environ['GOOGLE_APPLICATION_CREDENTIALS'] = 'C:/Users/DIKA/Documents/bootcamp/Untitled Folder/aqueous-freedom-398208-cfe0d4e567f2.json'"
   ]
  },
  {
   "cell_type": "code",
   "execution_count": 4,
   "id": "f003ba81-6637-488d-a120-e37d48766e45",
   "metadata": {
    "tags": []
   },
   "outputs": [],
   "source": [
    "bigquery_client = bigquery.Client()"
   ]
  },
  {
   "cell_type": "markdown",
   "id": "da9501f8-fdf1-4270-9592-4f841fcade98",
   "metadata": {
    "tags": []
   },
   "source": [
    "## Segmented"
   ]
  },
  {
   "cell_type": "code",
   "execution_count": 7,
   "id": "4eeb131c-f9b0-4a69-a980-016064130a32",
   "metadata": {
    "tags": []
   },
   "outputs": [],
   "source": [
    "query = \"\"\"\n",
    "DROP TABLE IF EXISTS `aqueous-freedom-398208.dkf_summary_tim2.part4_summary_segmentasi`;\n",
    "CREATE TABLE `aqueous-freedom-398208.dkf_summary_tim2.part4_summary_segmentasi` AS\n",
    "    SELECT sub.cust_name, sub.total_order, sub.total_spend, CASE\n",
    "    WHEN sub.total_order > 3 AND sub.total_spend >= 80000 THEN 'Big Spender'\n",
    "    WHEN sub.total_spend < 10000 THEN 'Regular'\n",
    "    WHEN sub.total_spend < 40000 THEN 'Silver'\n",
    "    WHEN sub.total_spend < 80000 THEN 'Gold'\n",
    "    ELSE 'Diamond'\n",
    "    END level\n",
    "    FROM (\n",
    "        SELECT c.cust_name, COUNT(*) AS total_order, SUM(f.price*o.quantity) AS total_spend\n",
    "        FROM `aqueous-freedom-398208.dkf_okefood.order` o\n",
    "        INNER JOIN `aqueous-freedom-398208.dkf_okefood.food` f ON f.food_id = o.fk_food_id\n",
    "        INNER JOIN `aqueous-freedom-398208.dkf_okefood.customer` c ON c.cust_id = o.fk_cust_id\n",
    "        GROUP BY 1\n",
    "        ) AS sub\n",
    "    ORDER BY 3, 4\n",
    "\"\"\"\n",
    "\n",
    "result = bigquery_client.query(query)\n",
    "# df = result.to_dataframe()\n",
    "# df"
   ]
  },
  {
   "cell_type": "markdown",
   "id": "af4552cf-1b06-4995-a30b-6425e64e5d32",
   "metadata": {
    "tags": []
   },
   "source": [
    "## Pending Order"
   ]
  },
  {
   "cell_type": "code",
   "execution_count": 8,
   "id": "61118dff-0874-4d02-9601-52dbaf3a3783",
   "metadata": {
    "tags": []
   },
   "outputs": [],
   "source": [
    "query = \"\"\"\n",
    "DROP TABLE IF EXISTS `aqueous-freedom-398208.dkf_summary_tim2.part4_summary_pending`;\n",
    "CREATE TABLE `aqueous-freedom-398208.dkf_summary_tim2.part4_summary_pending` AS\n",
    "    SELECT c.cust_name, o.order_date, f.food_name, o.quantity, f.price*o.quantity AS total_spend, o.status\n",
    "    FROM `aqueous-freedom-398208.dkf_okefood.order` o\n",
    "    INNER JOIN `aqueous-freedom-398208.dkf_okefood.food` f ON f.food_id = o.fk_food_id\n",
    "    INNER JOIN `aqueous-freedom-398208.dkf_okefood.customer` c ON c.cust_id = o.fk_cust_id\n",
    "    WHERE o.status = 'Pending'\n",
    "    ORDER BY 2, 1\n",
    "  \"\"\"\n",
    "\n",
    "result = bigquery_client.query(query)\n",
    "# df = result.to_dataframe()\n",
    "# df"
   ]
  },
  {
   "cell_type": "code",
   "execution_count": null,
   "id": "987534ab-a505-42a1-beba-adb40a2874aa",
   "metadata": {},
   "outputs": [],
   "source": []
  }
 ],
 "metadata": {
  "kernelspec": {
   "display_name": "Python 3 (ipykernel)",
   "language": "python",
   "name": "python3"
  },
  "language_info": {
   "codemirror_mode": {
    "name": "ipython",
    "version": 3
   },
   "file_extension": ".py",
   "mimetype": "text/x-python",
   "name": "python",
   "nbconvert_exporter": "python",
   "pygments_lexer": "ipython3",
   "version": "3.11.5"
  }
 },
 "nbformat": 4,
 "nbformat_minor": 5
}
